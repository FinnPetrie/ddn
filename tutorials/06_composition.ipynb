{
 "cells": [
  {
   "cell_type": "markdown",
   "metadata": {},
   "source": [
    "# Composition\n",
    "\n",
    "A deep neural network is simply a composition of (parametrized) processing nodes. Composing two nodes $f$ and $g$ gives yet another node $h = f \\cdot g$. As such we can also view a deep nerual network as a single processing node where we have collected all the inputs together (into a single input) and collected all the outputs together (into a single output). This is how deep learning frameworks, such as `PyTorch`, process data through neural networks.\n",
    "\n",
    "This tutorial explores the idea of composition using the `ddn.basic` package. Each processing node in the package is assumed to take a single (vector) input and produce a single (vector) output as presented in the [\"Deep Declarative Networks: A New Hope\"](https://arxiv.org/abs/1909.04866) paper, so we have to merge and split vectors as we process data through the network.\n"
   ]
  },
  {
   "cell_type": "code",
   "execution_count": 1,
   "metadata": {},
   "outputs": [],
   "source": [
    "%matplotlib inline"
   ]
  },
  {
   "cell_type": "markdown",
   "metadata": {},
   "source": [
    "## Example: Matching means\n",
    "\n",
    "We will develop an example of modifying two vector inputs so that their means match. Our network first computes the mean of each vector, then computes their square difference. Back-propagating to reduce the square difference will move the vectors such that their means are equal. The network can be visualized as\n",
    "\n",
    "```\n",
    "                           .------.\n",
    "       .------.            |      |\n",
    "x_1 ---| mean |--- mu_1 ---|      |\n",
    "       '------'            |      |                     .---------.\n",
    "                           | diff |--- (mu_1 - mu_2) ---| 1/2 sqr |--- y \n",
    "       .------.            |      |                     '---------'\n",
    "x_2 ---| mean |--- mu_2 ---|      |\n",
    "       '------'            |      |\n",
    "                           '------'\n",
    "```\n",
    "\n",
    "Viewing the network as a single node we have\n",
    "\n",
    "```\n",
    "     .-------------------------------------------------------------------------.\n",
    "     |                              .------.                                   |\n",
    "     |          .------.            |      |                                   |\n",
    "     |   x_1 ---| mean |--- mu_1 ---|      |                                   |\n",
    "     |  /       '------'            |      |                     .---------.   |\n",
    "x ---|-<                            | diff |--- (mu_1 - mu_2) ---| 1/2 sqr |---|--- y \n",
    "     |  \\       .------.            |      |                     '---------'   |\n",
    "     |   x_2 ---| mean |--- mu_2 ---|      |                                   |\n",
    "     |          '------'            |      |                                   |\n",
    "     |                              '------'                                   |\n",
    "     .-------------------------------------------------------------------------'\n",
    "```\n",
    "\n",
    "Note here each of $x_1$ and $x_2$ is an $n$-dimensional vector. So $x = (x_1, x_2) \\in \\mathbb{R}^{2n}$.\n",
    "\n",
    "We now develop the code for this example, starting with the upper and lower branches of the network."
   ]
  },
  {
   "cell_type": "code",
   "execution_count": 2,
   "metadata": {},
   "outputs": [],
   "source": [
    "import sys\n",
    "sys.path.append(\"../\")\n",
    "from ddn.basic.node import *\n",
    "from ddn.basic.sample_nodes import *\n",
    "from ddn.basic.robust_nodes import *\n",
    "from ddn.basic.composition import *\n",
    "\n",
    "# construct n-dimensional vector inputs\n",
    "n = 10\n",
    "x_1 = np.random.randn(n, 1)\n",
    "x_2 = np.random.randn(n, 1)\n",
    "\n",
    "x = np.vstack((x_1, x_2))\n",
    "\n",
    "# create upper and lower branches\n",
    "upperBranch = ComposedNode(SelectNode(2*n, 0, n-1), RobustAverage(n, 'quadratic'))\n",
    "lowerBranch = ComposedNode(SelectNode(2*n, n), RobustAverage(n, 'quadratic'))"
   ]
  },
  {
   "cell_type": "markdown",
   "metadata": {},
   "source": [
    "To make sure things are working so far we compute the output of the upper and lower branches, now composed processing nodes, and compare it to the mean of $x_1$ and $x_2$, respectively."
   ]
  },
  {
   "cell_type": "code",
   "execution_count": 3,
   "metadata": {},
   "outputs": [
    {
     "name": "stdout",
     "output_type": "stream",
     "text": [
      "upper branch: [-0.2355591] vs -0.23555909801550073\n",
      "lower branch: [0.58733154] vs 0.5873315427365673\n"
     ]
    }
   ],
   "source": [
    "mu_1, _ = upperBranch.solve(x)\n",
    "mu_2, _ = lowerBranch.solve(x)\n",
    "\n",
    "print(\"upper branch: {} vs {}\".format(mu_1, np.mean(x_1)))\n",
    "print(\"lower branch: {} vs {}\".format(mu_2, np.mean(x_2)))"
   ]
  },
  {
   "cell_type": "markdown",
   "metadata": {},
   "source": [
    "Continuing the example, we now run the upper and lower branches in parallel (to produce $(\\mu_1, \\mu_2) \\in \\mathbb{R}^2$) and write a node to take the difference between the two elements of the resulting vector."
   ]
  },
  {
   "cell_type": "code",
   "execution_count": 4,
   "metadata": {},
   "outputs": [
    {
     "name": "stdout",
     "output_type": "stream",
     "text": [
      "0.3385745033186745\n"
     ]
    }
   ],
   "source": [
    "# combine the upper and lower branches\n",
    "meansNode = ParallelNode(upperBranch, lowerBranch)\n",
    "\n",
    "# node for computing mu_1 - mu_2\n",
    "class DiffNode(AbstractNode):\n",
    "    \"\"\"Computes the difference between elements in a 2-dimensional vector.\"\"\"\n",
    "    def __init__(self):\n",
    "        super().__init__(2, 1)\n",
    "    \n",
    "    def solve(self, x):\n",
    "        assert len(x) == 2\n",
    "        return x[0] - x[1], None\n",
    "    \n",
    "    def gradient(self, x, y=None, ctx=None):\n",
    "        return np.array([1.0, -1.0])\n",
    "\n",
    "# now put everything together into a network (super declarative node)\n",
    "network = ComposedNode(ComposedNode(meansNode, DiffNode()), SquaredErrorNode(1))\n",
    "\n",
    "# print the initial (half) squared difference between the means\n",
    "y, _ = network.solve(x)\n",
    "print(y)"
   ]
  },
  {
   "cell_type": "markdown",
   "metadata": {},
   "source": [
    "Now let's update $x_1$ and $x_2$ so as to make their means equal."
   ]
  },
  {
   "cell_type": "code",
   "execution_count": 5,
   "metadata": {},
   "outputs": [
    {
     "data": {
      "image/png": "[encoded data removed]",
      "text/plain": [
       "<Figure size 432x288 with 1 Axes>"
      ]
     },
     "metadata": {
      "needs_background": "light"
     },
     "output_type": "display_data"
    },
    {
     "name": "stdout",
     "output_type": "stream",
     "text": [
      "[-0.30381161  1.36744075  0.59854016 -0.18985647 -0.46744483  0.02751471\n",
      "  1.05950697  0.62295167 -0.17938881 -0.77659031]\n",
      "[-0.28819236 -1.40127353 -0.1796489  -0.05199113 -0.14430793  0.19163093\n",
      "  1.22437052  0.68970238  0.62044613  1.09812612]\n",
      "0.17588622236053347\n",
      "0.17588622236053328\n"
     ]
    }
   ],
   "source": [
    "import scipy.optimize as opt\n",
    "import matplotlib.pyplot as plt\n",
    "\n",
    "x_init = x.copy()\n",
    "y_init, _ = network.solve(x_init)\n",
    "history = [y_init]\n",
    "result = opt.minimize(lambda xk: network.solve(xk)[0], x_init, args=(), method='L-BFGS-B', jac=lambda xk: network.gradient(xk),\n",
    "                      options={'maxiter': 1000, 'disp': False},\n",
    "                      callback=lambda xk: history.append(network.solve(xk)[0]))\n",
    "\n",
    "# plot results\n",
    "plt.figure()\n",
    "plt.semilogy(history, lw=2)\n",
    "plt.xlabel(\"iter.\"); plt.ylabel(\"error\")\n",
    "plt.title(\"Example: Matching means\")\n",
    "plt.show()\n",
    "\n",
    "# print final vectors and their means\n",
    "x_final = result.x\n",
    "print(x_final[0:n])\n",
    "print(x_final[n:])\n",
    "print(np.mean(x_final[0:n]))\n",
    "print(np.mean(x_final[n:]))"
   ]
  },
  {
   "cell_type": "code",
   "execution_count": null,
   "metadata": {},
   "outputs": [],
   "source": []
  }
 ],
 "metadata": {
  "kernelspec": {
   "display_name": "Python 3",
   "language": "python",
   "name": "python3"
  },
  "language_info": {
   "codemirror_mode": {
    "name": "ipython",
    "version": 3
   },
   "file_extension": ".py",
   "mimetype": "text/x-python",
   "name": "python",
   "nbconvert_exporter": "python",
   "pygments_lexer": "ipython3",
   "version": "3.7.4"
  }
 },
 "nbformat": 4,
 "nbformat_minor": 2
}
